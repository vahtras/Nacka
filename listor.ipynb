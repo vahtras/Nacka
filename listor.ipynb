{
 "cells": [
  {
   "cell_type": "markdown",
   "metadata": {
    "collapsed": true
   },
   "source": [
    "### Listor\n",
    "\n",
    "`list`: en datatyp\n",
    "\n",
    "En ordnad f\u00f6ljd av v\u00e4rden\n",
    "en lista kan skrivas med hakparenterser och de ing\u00e5ende v\u00e4rdena skiljs med komma\n",
    "\n",
    "[1, 2, 3, 5, 8]\n",
    "\n",
    "En tom lista har bara hakparenteser []"
   ]
  },
  {
   "cell_type": "code",
   "execution_count": null,
   "metadata": {
    "collapsed": true,
    "slideshow": {
     "slide_type": "subslide"
    }
   },
   "outputs": [],
   "source": []
  }
 ],
 "metadata": {
  "celltoolbar": "Slideshow",
  "kernelspec": {
   "display_name": "Python 3",
   "language": "python",
   "name": "python3"
  },
  "language_info": {
   "codemirror_mode": {
    "name": "ipython",
    "version": 3
   },
   "file_extension": ".py",
   "mimetype": "text/x-python",
   "name": "python",
   "nbconvert_exporter": "python",
   "pygments_lexer": "ipython3",
   "version": "3.6.2"
  }
 },
 "nbformat": 4,
 "nbformat_minor": 2
}